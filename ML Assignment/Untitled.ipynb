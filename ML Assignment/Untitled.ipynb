{
 "cells": [
  {
   "cell_type": "code",
   "execution_count": 8,
   "metadata": {},
   "outputs": [],
   "source": [
    "def distSquared(point1, point2):\n",
    "    assert point1.shape == point2.shape\n",
    "    return np.sum(np.square(point2-point1))"
   ]
  },
  {
   "cell_type": "code",
   "execution_count": 73,
   "metadata": {},
   "outputs": [],
   "source": [
    "def findClosestCentroids(X, centroids):\n",
    "    ci = np.zeros((X.shape[0],1))\n",
    "    #Loop through each data point in X\n",
    "    for m in range(0,ci.shape[0]):\n",
    "        point = X[m]\n",
    "        #Compare this point to each centroid,\n",
    "        #Keep track of shortest distance and index of shortest distance\n",
    "        mindist, idx = 9999999, 0\n",
    "        for i in range(0,centroids.shape[0]):\n",
    "            centroid = centroids[i]\n",
    "            distsquared = distSquared(centroid,point)\n",
    "            if distsquared < mindist:\n",
    "                mindist = distsquared\n",
    "                idx = i\n",
    "        #With the best index found, modify the result ci vector\n",
    "        ci[m] = idx    \n",
    "    return ci"
   ]
  },
  {
   "cell_type": "code",
   "execution_count": 97,
   "metadata": {},
   "outputs": [],
   "source": [
    "def findClosestCentroid(X,centroids):\n",
    "    K = len(centroids)\n",
    "    ci = np.zeros((len(X), 1))\n",
    "    for m in range(0,len(X)):\n",
    "        distances = np.zeros((len(centroids), 1))\n",
    "        for k in range(0,K):\n",
    "            distances[k] = sum((X[m]-centroids[k]) ** 2 )\n",
    "        x= min(distances)\n",
    "        index = np.argmin(distances)\n",
    "        ci[m] = index\n",
    "    return ci\n"
   ]
  },
  {
   "cell_type": "code",
   "execution_count": 96,
   "metadata": {},
   "outputs": [],
   "source": [
    "def computeCentroids(X, ci):\n",
    "    subX=[] \n",
    "    for i in range(0,len(np.unique(ci))):\n",
    "        subX.append(np.array([X[m] for m in range(0,X.shape[0]) if ci[m] == i]))#creates subset of X with common cluster index\n",
    "    return np.array([np.mean(thisX,axis=0) for thisX in subX]) #finds mean of each set of points in clusters"
   ]
  },
  {
   "cell_type": "code",
   "execution_count": 77,
   "metadata": {},
   "outputs": [],
   "source": [
    "def kmeans(file,cluster_size):\n",
    "    data = pd.read_csv(file, sep=\" \", header=None)\n",
    "    row,col=data.shape\n",
    "    X=data.iloc[:,:].values\n",
    "    centroids=initCentroids(X,cluster_size)\n",
    "    #pdb.set_trace()\n",
    "    for i in range(0,100):\n",
    "        ci=findClosestCentroid(X,centroids)\n",
    "        #print(ci)\n",
    "        centroids=computeCentroids(X,ci)\n",
    "    #pdb.set_trace()\n",
    "    print(centroids)\n",
    "    df=pd.DataFrame(data=centroids)\n",
    "    df.to_csv('clusters.txt', sep=' ',index=False,header = False)"
   ]
  },
  {
   "cell_type": "code",
   "execution_count": 40,
   "metadata": {},
   "outputs": [],
   "source": [
    "def initCentroids(X, K):\n",
    "    rand_indices = sample(range(0,X.shape[0]),K)\n",
    "    return np.array([X[i] for i in rand_indices])"
   ]
  },
  {
   "cell_type": "code",
   "execution_count": 66,
   "metadata": {},
   "outputs": [],
   "source": [
    "def runKMeans(X, K):\n",
    "    \"\"\"\n",
    "    Function that actually does the iterations\n",
    "    \"\"\"\n",
    "    centroid_history = []\n",
    "    current_centroids = initCentroids(X, K)\n",
    "    for myiter in range(0,10000):\n",
    "        centroid_history.append(current_centroids)\n",
    "        idxs = findClosestCentroids(X,current_centroids)\n",
    "        current_centroids = computeCentroids(X,idxs)\n",
    "        \n",
    "    return idxs, centroid_history,current_centroids"
   ]
  },
  {
   "cell_type": "code",
   "execution_count": 71,
   "metadata": {},
   "outputs": [],
   "source": [
    "ci,ch,c=runKMeans(X, 2)"
   ]
  },
  {
   "cell_type": "code",
   "execution_count": 72,
   "metadata": {},
   "outputs": [
    {
     "data": {
      "text/plain": [
       "array([[0.36666667, 0.7       , 0.53333333],\n",
       "       [5.2       , 6.5       , 7.55      ]])"
      ]
     },
     "execution_count": 72,
     "metadata": {},
     "output_type": "execute_result"
    }
   ],
   "source": [
    "c"
   ]
  },
  {
   "cell_type": "code",
   "execution_count": 65,
   "metadata": {},
   "outputs": [
    {
     "data": {
      "text/plain": [
       "array([[0.1, 0.4, 0.2],\n",
       "       [0.6, 0.1, 0.5],\n",
       "       [0.4, 1.6, 0.9],\n",
       "       [1.2, 3.4, 6.5],\n",
       "       [9.2, 9.6, 8.6]])"
      ]
     },
     "execution_count": 65,
     "metadata": {},
     "output_type": "execute_result"
    }
   ],
   "source": [
    "X"
   ]
  },
  {
   "cell_type": "code",
   "execution_count": 101,
   "metadata": {},
   "outputs": [
    {
     "name": "stdout",
     "output_type": "stream",
     "text": [
      "[[0.36666667 0.7        0.53333333]\n",
      " [5.2        6.5        7.55      ]]\n"
     ]
    }
   ],
   "source": [
    "kmeans('Points.txt',2)\n"
   ]
  },
  {
   "cell_type": "code",
   "execution_count": 7,
   "metadata": {},
   "outputs": [
    {
     "ename": "NameError",
     "evalue": "name 'xrange' is not defined",
     "output_type": "error",
     "traceback": [
      "\u001b[1;31m---------------------------------------------------------------------------\u001b[0m",
      "\u001b[1;31mNameError\u001b[0m                                 Traceback (most recent call last)",
      "\u001b[1;32m<ipython-input-7-c6ad375d895b>\u001b[0m in \u001b[0;36m<module>\u001b[1;34m()\u001b[0m\n\u001b[1;32m----> 1\u001b[1;33m \u001b[0mprint\u001b[0m\u001b[1;33m(\u001b[0m\u001b[0mxrange\u001b[0m\u001b[1;33m(\u001b[0m\u001b[1;36m1\u001b[0m\u001b[1;33m)\u001b[0m\u001b[1;33m)\u001b[0m\u001b[1;33m\u001b[0m\u001b[0m\n\u001b[0m",
      "\u001b[1;31mNameError\u001b[0m: name 'xrange' is not defined"
     ]
    }
   ],
   "source": [
    "print(xrange(1))"
   ]
  },
  {
   "cell_type": "code",
   "execution_count": 6,
   "metadata": {},
   "outputs": [
    {
     "name": "stdout",
     "output_type": "stream",
     "text": [
      "[[8.66 8.66 8.66]\n",
      " [0.   0.   0.  ]]\n"
     ]
    }
   ],
   "source": [
    "import sys,pandas as pd,numpy as np,random,pdb\n",
    "from random import sample\n",
    "\n",
    "def findClosestCentroids(X, centroids):\n",
    "    ci = np.zeros((X.shape[0],1))\n",
    "    #Loop through each data point in X\n",
    "    for m in range(0,ci.shape[0]):\n",
    "        point = X[m]\n",
    "        #Compare this point to each centroid,\n",
    "        #Keep track of shortest distance and index of shortest distance\n",
    "        mindist, idx = 9999999, 0\n",
    "        for i in range(0,centroids.shape[0]):\n",
    "            centroid = centroids[i]\n",
    "            distsquared = distSquared(centroid,point)\n",
    "            if distsquared < mindist:\n",
    "                mindist = distsquared\n",
    "                idx = i\n",
    "        #With the best index found, modify the result ci vector\n",
    "        ci[m] = idx    \n",
    "    return ci\n",
    "\n",
    "def computeMeans(X,ci,K):\n",
    "    row,col=X.shape\n",
    "    centroids = np.zeros((K, col))\n",
    "    for i in range(0,K):\n",
    "        c=len(np.where(ci==i)[0])\n",
    "        if(c!=0):\n",
    "            centroids[i] = (1 / c) * sum(sum(X[np.where(ci==i)[0]]))\n",
    "    return centroids\n",
    "        \n",
    "def initCentroids(X, K):\n",
    "    rand_indices = sample(range(0,X.shape[0]),K)\n",
    "    return np.array([X[i] for i in rand_indices])\n",
    "\n",
    "def kmeans(file,cluster_size):\n",
    "    data = pd.read_csv(file, sep=\" \", header=None)\n",
    "    row,col=data.shape\n",
    "    X=data.iloc[:,:].values\n",
    "    centroids=initCentroids(X,cluster_size)\n",
    "    #pdb.set_trace()\n",
    "    for i in range(0,100):\n",
    "        ci=findClosestCentroid(X,centroids)\n",
    "        #print(ci)\n",
    "        centroids=computeMeans(X,ci,cluster_size)\n",
    "    #pdb.set_trace()\n",
    "    print(centroids)\n",
    "    df=pd.DataFrame(data=centroids)\n",
    "    df.to_csv('clusters.txt', sep=' ',index=False,header = False)\n",
    "\n",
    "\n",
    "if __name__ == \"__main__\":\n",
    "    kmeans('Points.txt',2)"
   ]
  },
  {
   "cell_type": "code",
   "execution_count": 106,
   "metadata": {},
   "outputs": [],
   "source": [
    "import sys,pandas as pd,numpy as np\n",
    "from random import sample\n",
    "\n",
    "def findClosestCentroid(X,centroids):\n",
    "    K = len(centroids)\n",
    "    ci = np.zeros((len(X), 1))\n",
    "    for m in range(0,len(X)):\n",
    "        distances = np.zeros((len(centroids), 1))\n",
    "        for k in range(0,K):\n",
    "            distances[k] = sum((X[m] - centroids[k]) ** 2 )\n",
    "        x= min(distances)\n",
    "        index = np.argmin(distances)\n",
    "        ci[m] = index\n",
    "    return ci\n",
    "\n",
    "def computeCentroids(X, ci):\n",
    "    subX=[] \n",
    "    for i in range(0,len(np.unique(ci))):\n",
    "        subX.append(np.array([X[m] for m in range(0,X.shape[0]) if ci[m] == i]))#creates subset of X with common cluster index\n",
    "    return np.array([np.mean(thisX,axis=0) for thisX in subX]) #finds mean of each set of points in clusters\n",
    "        \n",
    "def initCentroids(X, K):\n",
    "    rand_indices = sample(range(0,X.shape[0]),K) # selects random indices from X\n",
    "    return np.array([X[i] for i in rand_indices]) # return ndarray with values of the random indices\n",
    "\n",
    "def kmeans(file,cluster_size):\n",
    "    data = pd.read_csv(file, sep=\" \", header=None)\n",
    "    row,col=data.shape\n",
    "    X=data.iloc[:,:].values\n",
    "    centroids=initCentroids(X,cluster_size)\n",
    "    for i in range(0,100):\n",
    "        ci=findClosestCentroid(X,centroids)\n",
    "        centroids=computeCentroids(X,ci)\n",
    "    df=pd.DataFrame(data=centroids)\n",
    "    df.to_csv('clusters.txt', sep=' ',index=False,header = False)\n",
    "\n",
    "if __name__ == \"__main__\":\n",
    "    kmeans('points.txt',2)"
   ]
  },
  {
   "cell_type": "code",
   "execution_count": 27,
   "metadata": {},
   "outputs": [
    {
     "data": {
      "text/html": [
       "<div>\n",
       "<style scoped>\n",
       "    .dataframe tbody tr th:only-of-type {\n",
       "        vertical-align: middle;\n",
       "    }\n",
       "\n",
       "    .dataframe tbody tr th {\n",
       "        vertical-align: top;\n",
       "    }\n",
       "\n",
       "    .dataframe thead th {\n",
       "        text-align: right;\n",
       "    }\n",
       "</style>\n",
       "<table border=\"1\" class=\"dataframe\">\n",
       "  <thead>\n",
       "    <tr style=\"text-align: right;\">\n",
       "      <th></th>\n",
       "      <th>0</th>\n",
       "      <th>1</th>\n",
       "      <th>2</th>\n",
       "    </tr>\n",
       "  </thead>\n",
       "  <tbody>\n",
       "    <tr>\n",
       "      <th>0</th>\n",
       "      <td>0.1</td>\n",
       "      <td>0.4</td>\n",
       "      <td>0.2</td>\n",
       "    </tr>\n",
       "    <tr>\n",
       "      <th>1</th>\n",
       "      <td>0.6</td>\n",
       "      <td>0.1</td>\n",
       "      <td>0.5</td>\n",
       "    </tr>\n",
       "    <tr>\n",
       "      <th>2</th>\n",
       "      <td>0.4</td>\n",
       "      <td>1.6</td>\n",
       "      <td>0.9</td>\n",
       "    </tr>\n",
       "    <tr>\n",
       "      <th>3</th>\n",
       "      <td>1.2</td>\n",
       "      <td>3.4</td>\n",
       "      <td>6.5</td>\n",
       "    </tr>\n",
       "    <tr>\n",
       "      <th>4</th>\n",
       "      <td>9.2</td>\n",
       "      <td>9.6</td>\n",
       "      <td>8.6</td>\n",
       "    </tr>\n",
       "  </tbody>\n",
       "</table>\n",
       "</div>"
      ],
      "text/plain": [
       "     0    1    2\n",
       "0  0.1  0.4  0.2\n",
       "1  0.6  0.1  0.5\n",
       "2  0.4  1.6  0.9\n",
       "3  1.2  3.4  6.5\n",
       "4  9.2  9.6  8.6"
      ]
     },
     "execution_count": 27,
     "metadata": {},
     "output_type": "execute_result"
    }
   ],
   "source": [
    "import pandas as pd\n",
    "c='points.txt'\n",
    "data = pd.read_csv(c, sep=\" \", header=None)\n",
    "data"
   ]
  },
  {
   "cell_type": "code",
   "execution_count": 29,
   "metadata": {
    "scrolled": true
   },
   "outputs": [],
   "source": [
    "X=data.iloc[:,:].values\n"
   ]
  },
  {
   "cell_type": "code",
   "execution_count": 12,
   "metadata": {},
   "outputs": [],
   "source": [
    "data = pd.read_csv(c, sep=\" \", header=None)\n",
    "X=data.iloc[:,:].values"
   ]
  },
  {
   "cell_type": "code",
   "execution_count": 14,
   "metadata": {},
   "outputs": [],
   "source": [
    "from sklearn.cluster import KMeans\n",
    "kmeans = KMeans(algorithm='full',init='random',n_clusters=2, random_state=0).fit(X)"
   ]
  },
  {
   "cell_type": "code",
   "execution_count": 15,
   "metadata": {},
   "outputs": [
    {
     "data": {
      "text/plain": [
       "KMeans(algorithm='full', copy_x=True, init='random', max_iter=300,\n",
       "    n_clusters=2, n_init=10, n_jobs=1, precompute_distances='auto',\n",
       "    random_state=0, tol=0.0001, verbose=0)"
      ]
     },
     "execution_count": 15,
     "metadata": {},
     "output_type": "execute_result"
    }
   ],
   "source": [
    "kmeans"
   ]
  },
  {
   "cell_type": "code",
   "execution_count": 16,
   "metadata": {},
   "outputs": [
    {
     "data": {
      "text/plain": [
       "array([[9.2  , 9.6  , 8.6  ],\n",
       "       [0.575, 1.375, 2.025]])"
      ]
     },
     "execution_count": 16,
     "metadata": {},
     "output_type": "execute_result"
    }
   ],
   "source": [
    "kmeans.cluster_centers_"
   ]
  },
  {
   "cell_type": "code",
   "execution_count": 20,
   "metadata": {},
   "outputs": [],
   "source": [
    "file = open('testfile.txt','w') \n",
    " \n",
    "file.write(str(kmeans.cluster_centers_[0]) )\n",
    "\n",
    "file.close() "
   ]
  },
  {
   "cell_type": "code",
   "execution_count": 189,
   "metadata": {},
   "outputs": [
    {
     "data": {
      "text/plain": [
       "array([[0.1, 0.4, 0.2],\n",
       "       [0.6, 0.1, 0.5],\n",
       "       [0.4, 1.6, 0.9],\n",
       "       [1.2, 3.4, 6.5],\n",
       "       [9.2, 9.6, 8.6]])"
      ]
     },
     "execution_count": 189,
     "metadata": {},
     "output_type": "execute_result"
    }
   ],
   "source": [
    "file = open('testfile.txt','r') \n",
    " \n",
    "x=file.read()\n",
    "\n",
    "file.close() \n",
    "X"
   ]
  },
  {
   "cell_type": "code",
   "execution_count": 188,
   "metadata": {},
   "outputs": [
    {
     "data": {
      "text/plain": [
       "array([0.16, 0.01, 0.09])"
      ]
     },
     "execution_count": 188,
     "metadata": {},
     "output_type": "execute_result"
    }
   ],
   "source": [
    "sum((X[1]-[0.2, 0.0, 0.2])**2)"
   ]
  },
  {
   "cell_type": "code",
   "execution_count": 23,
   "metadata": {},
   "outputs": [
    {
     "data": {
      "text/plain": [
       "array([[0.4, 1.6, 0.9],\n",
       "       [0.1, 0.4, 0.2]])"
      ]
     },
     "execution_count": 23,
     "metadata": {},
     "output_type": "execute_result"
    }
   ],
   "source": [
    "from random import sample\n",
    "centroids = np.zeros((2, X.shape[1]))\n",
    "rand_indices = sample(range(0,X.shape[0]),2)\n",
    "centroids = np.array([X[i] for i in rand_indices])\n",
    "centroids  \n"
   ]
  },
  {
   "cell_type": "code",
   "execution_count": 8,
   "metadata": {},
   "outputs": [
    {
     "data": {
      "text/plain": [
       "True"
      ]
     },
     "execution_count": 8,
     "metadata": {},
     "output_type": "execute_result"
    }
   ],
   "source": [
    "[9.2, 3.3, 8.4] in centroids"
   ]
  },
  {
   "cell_type": "code",
   "execution_count": 10,
   "metadata": {},
   "outputs": [
    {
     "name": "stderr",
     "output_type": "stream",
     "text": [
      "C:\\ProgramData\\Anaconda3\\lib\\site-packages\\ipykernel_launcher.py:1: DeprecationWarning: using a non-integer array as obj in delete will result in an error in the future\n",
      "  \"\"\"Entry point for launching an IPython kernel.\n",
      "C:\\ProgramData\\Anaconda3\\lib\\site-packages\\ipykernel_launcher.py:1: DeprecationWarning: in the future out of bounds indices will raise an error instead of being ignored by `numpy.delete`.\n",
      "  \"\"\"Entry point for launching an IPython kernel.\n"
     ]
    },
    {
     "data": {
      "text/plain": [
       "array([[9.2, 9.6, 8.6],\n",
       "       [9.2, 9.6, 8.6]])"
      ]
     },
     "execution_count": 10,
     "metadata": {},
     "output_type": "execute_result"
    }
   ],
   "source": [
    "np.delete(centroids,[9.2, 3.3, 8.4],axis=0)"
   ]
  },
  {
   "cell_type": "code",
   "execution_count": null,
   "metadata": {},
   "outputs": [],
   "source": []
  },
  {
   "cell_type": "code",
   "execution_count": 90,
   "metadata": {},
   "outputs": [],
   "source": [
    "def kMeansInitCentroids(X, K):\n",
    "    centroids = np.zeros((K, X.shape[1]))\n",
    "    for i in range(0,K):\n",
    "        if(not(random.choice(X) in centroids)):    \n",
    "            centroids[i]=random.choice(X)\n"
   ]
  },
  {
   "cell_type": "code",
   "execution_count": null,
   "metadata": {},
   "outputs": [],
   "source": [
    "centroids=initCentroids(X,K)\n",
    "for i in range(0,50):\n",
    "    ci=findClosestCentroid(X,centroids)\n",
    "    centroids=computeMeans(X,ci,K)\n",
    "    \n"
   ]
  },
  {
   "cell_type": "code",
   "execution_count": null,
   "metadata": {},
   "outputs": [],
   "source": [
    "def findClosestCentroid(X,centroids):\n",
    "    K = len(centroids)\n",
    "    ci = np.zeros((len(X), 1))\n",
    "    for m in range(0,len(X)):\n",
    "        distances = np.zeros((len(centroids), 1));\n",
    "    for k in range(0,K);\n",
    "        distances[k] = sum(sum((X - centroids) ** 2 ));\n",
    "\n",
    "    x= min(distances)\n",
    "    index = np.argmin(distances)\n",
    "    ci[m] = index"
   ]
  },
  {
   "cell_type": "code",
   "execution_count": null,
   "metadata": {},
   "outputs": [],
   "source": [
    "def computeMeans(X,ci,K):\n",
    "    row,col=X.shape\n",
    "    centroids = np.zeros((K, col))\n",
    "    for i in range(0,K):\n",
    "        centroids[i] = (1 / len(np.where(ci==i)[0])) * sum(sum(X[np.where(ci==i)[0]]))\n"
   ]
  },
  {
   "cell_type": "code",
   "execution_count": 48,
   "metadata": {},
   "outputs": [
    {
     "data": {
      "text/plain": [
       "73.0"
      ]
     },
     "execution_count": 48,
     "metadata": {},
     "output_type": "execute_result"
    }
   ],
   "source": [
    "sum(sum((distances-np.ones((10, 1)))**2))"
   ]
  },
  {
   "cell_type": "code",
   "execution_count": 76,
   "metadata": {},
   "outputs": [
    {
     "data": {
      "text/plain": [
       "9.0"
      ]
     },
     "execution_count": 76,
     "metadata": {},
     "output_type": "execute_result"
    }
   ],
   "source": [
    "np.where(distances==9)[0]\n",
    "sum(sum(distances[np.where(distances==9)[0]]))\n"
   ]
  },
  {
   "cell_type": "code",
   "execution_count": 40,
   "metadata": {},
   "outputs": [
    {
     "name": "stdout",
     "output_type": "stream",
     "text": [
      "Help on built-in function zeros in module numpy.core.multiarray:\n",
      "\n",
      "zeros(...)\n",
      "    zeros(shape, dtype=float, order='C')\n",
      "    \n",
      "    Return a new array of given shape and type, filled with zeros.\n",
      "    \n",
      "    Parameters\n",
      "    ----------\n",
      "    shape : int or sequence of ints\n",
      "        Shape of the new array, e.g., ``(2, 3)`` or ``2``.\n",
      "    dtype : data-type, optional\n",
      "        The desired data-type for the array, e.g., `numpy.int8`.  Default is\n",
      "        `numpy.float64`.\n",
      "    order : {'C', 'F'}, optional\n",
      "        Whether to store multidimensional data in C- or Fortran-contiguous\n",
      "        (row- or column-wise) order in memory.\n",
      "    \n",
      "    Returns\n",
      "    -------\n",
      "    out : ndarray\n",
      "        Array of zeros with the given shape, dtype, and order.\n",
      "    \n",
      "    See Also\n",
      "    --------\n",
      "    zeros_like : Return an array of zeros with shape and type of input.\n",
      "    ones_like : Return an array of ones with shape and type of input.\n",
      "    empty_like : Return an empty array with shape and type of input.\n",
      "    ones : Return a new array setting values to one.\n",
      "    empty : Return a new uninitialized array.\n",
      "    \n",
      "    Examples\n",
      "    --------\n",
      "    >>> np.zeros(5)\n",
      "    array([ 0.,  0.,  0.,  0.,  0.])\n",
      "    \n",
      "    >>> np.zeros((5,), dtype=int)\n",
      "    array([0, 0, 0, 0, 0])\n",
      "    \n",
      "    >>> np.zeros((2, 1))\n",
      "    array([[ 0.],\n",
      "           [ 0.]])\n",
      "    \n",
      "    >>> s = (2,2)\n",
      "    >>> np.zeros(s)\n",
      "    array([[ 0.,  0.],\n",
      "           [ 0.,  0.]])\n",
      "    \n",
      "    >>> np.zeros((2,), dtype=[('x', 'i4'), ('y', 'i4')]) # custom dtype\n",
      "    array([(0, 0), (0, 0)],\n",
      "          dtype=[('x', '<i4'), ('y', '<i4')])\n",
      "\n"
     ]
    },
    {
     "data": {
      "text/plain": [
       "array([[0.],\n",
       "       [0.],\n",
       "       [0.],\n",
       "       [0.],\n",
       "       [0.]])"
      ]
     },
     "execution_count": 40,
     "metadata": {},
     "output_type": "execute_result"
    }
   ],
   "source": [
    "import numpy as np\n",
    "help(np.zeros)\n",
    "np.zeros((5, 1))"
   ]
  },
  {
   "cell_type": "code",
   "execution_count": 24,
   "metadata": {},
   "outputs": [],
   "source": []
  },
  {
   "cell_type": "code",
   "execution_count": 47,
   "metadata": {},
   "outputs": [],
   "source": []
  },
  {
   "cell_type": "code",
   "execution_count": 29,
   "metadata": {},
   "outputs": [
    {
     "ename": "ValueError",
     "evalue": "not enough values to unpack (expected 2, got 1)",
     "output_type": "error",
     "traceback": [
      "\u001b[1;31m---------------------------------------------------------------------------\u001b[0m",
      "\u001b[1;31mValueError\u001b[0m                                Traceback (most recent call last)",
      "\u001b[1;32m<ipython-input-29-3fe3b786aea1>\u001b[0m in \u001b[0;36m<module>\u001b[1;34m()\u001b[0m\n\u001b[1;32m----> 1\u001b[1;33m \u001b[1;33m[\u001b[0m\u001b[0mx\u001b[0m\u001b[1;33m,\u001b[0m \u001b[0mindex\u001b[0m\u001b[1;33m]\u001b[0m \u001b[1;33m=\u001b[0m \u001b[0mmin\u001b[0m\u001b[1;33m(\u001b[0m\u001b[0mdistances\u001b[0m\u001b[1;33m)\u001b[0m\u001b[1;33m\u001b[0m\u001b[0m\n\u001b[0m",
      "\u001b[1;31mValueError\u001b[0m: not enough values to unpack (expected 2, got 1)"
     ]
    }
   ],
   "source": []
  },
  {
   "cell_type": "code",
   "execution_count": 35,
   "metadata": {},
   "outputs": [
    {
     "data": {
      "text/plain": [
       "1"
      ]
     },
     "execution_count": 35,
     "metadata": {},
     "output_type": "execute_result"
    }
   ],
   "source": [
    "np.argmax(distances)"
   ]
  },
  {
   "cell_type": "code",
   "execution_count": 50,
   "metadata": {},
   "outputs": [
    {
     "ename": "NameError",
     "evalue": "name 'find' is not defined",
     "output_type": "error",
     "traceback": [
      "\u001b[1;31m---------------------------------------------------------------------------\u001b[0m",
      "\u001b[1;31mNameError\u001b[0m                                 Traceback (most recent call last)",
      "\u001b[1;32m<ipython-input-50-ddb157543eaa>\u001b[0m in \u001b[0;36m<module>\u001b[1;34m()\u001b[0m\n\u001b[1;32m----> 1\u001b[1;33m \u001b[0mfind\u001b[0m\u001b[1;33m(\u001b[0m\u001b[1;33m)\u001b[0m\u001b[1;33m\u001b[0m\u001b[0m\n\u001b[0m",
      "\u001b[1;31mNameError\u001b[0m: name 'find' is not defined"
     ]
    }
   ],
   "source": []
  },
  {
   "cell_type": "code",
   "execution_count": null,
   "metadata": {},
   "outputs": [],
   "source": []
  }
 ],
 "metadata": {
  "kernelspec": {
   "display_name": "Python 3",
   "language": "python",
   "name": "python3"
  },
  "language_info": {
   "codemirror_mode": {
    "name": "ipython",
    "version": 3
   },
   "file_extension": ".py",
   "mimetype": "text/x-python",
   "name": "python",
   "nbconvert_exporter": "python",
   "pygments_lexer": "ipython3",
   "version": "3.6.4"
  }
 },
 "nbformat": 4,
 "nbformat_minor": 2
}
